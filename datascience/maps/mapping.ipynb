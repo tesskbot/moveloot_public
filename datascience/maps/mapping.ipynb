{
 "cells": [
  {
   "cell_type": "code",
   "execution_count": null,
   "metadata": {
    "collapsed": true
   },
   "outputs": [],
   "source": [
    "import os\n",
    "import shapefile\n",
    "from json import dumps\n",
    "from IPython.display import IFrame\n",
    "import folium\n",
    "import pandas as pd\n",
    "import numpy as np\n",
    "import json\n",
    "import matplotlib.pyplot as plt\n",
    "from scipy.cluster.vq import whiten\n",
    "from sklearn import cluster\n",
    "import requests\n",
    "%matplotlib inline\n",
    "import matplotlib.cm as cm\n",
    "from matplotlib.colors import rgb2hex\n",
    "import seaborn as sns"
   ]
  },
  {
   "cell_type": "code",
   "execution_count": null,
   "metadata": {
    "collapsed": false
   },
   "outputs": [],
   "source": [
    "zip_summary = pd.read_pickle('')"
   ]
  },
  {
   "cell_type": "code",
   "execution_count": null,
   "metadata": {
    "collapsed": false,
    "scrolled": true
   },
   "outputs": [],
   "source": [
    "tbl = zip_summary.copy()\n",
    "colorcol = 'travel_cost'\n",
    "\n",
    "tileset = r'http://tile.stamen.com/toner-lite/{z}/{x}/{y}.png'\n",
    "attribution = 'Map data by OpenStreetMap, under ODbL.'\n",
    "\n",
    "mappath = 'map_travelcost_shapes.html'\n",
    "\n",
    "maxsum = tbl[colorcol].max()\n",
    "sumrgbs = [cm.cool(sumval/float(maxsum)) for sumval in tbl[colorcol]]\n",
    "\n",
    "tbl['sumhex'] = [rgb2hex(sumrgb) for sumrgb in sumrgbs]\n",
    "\n",
    "zip_map = folium.Map(location=[37.817397, -122.226457], zoom_start=8, tiles=tileset, \n",
    "                     attr=attribution)\n",
    "\n",
    "for row_index, row in tbl.iterrows():\n",
    "    zip_map.circle_marker([row['lats'],row['lngs']],popup=str(row['pickups_total']),\n",
    "                          fill_color=row['sumhex'],line_color=row['sumhex'],radius=800)\n",
    "\n",
    "zip_map.create_map(path=mappath)"
   ]
  },
  {
   "cell_type": "markdown",
   "metadata": {},
   "source": [
    "## make map shapes"
   ]
  },
  {
   "cell_type": "code",
   "execution_count": null,
   "metadata": {
    "collapsed": false
   },
   "outputs": [],
   "source": [
    "# open zip code file\n",
    "import json\n",
    "with open('zip.geojson') as f:\n",
    "    data = json.load(f)"
   ]
  },
  {
   "cell_type": "code",
   "execution_count": null,
   "metadata": {
    "collapsed": true
   },
   "outputs": [],
   "source": [
    "# Get shapfile zipcode list\n",
    "zcta_zipcodes = []\n",
    "for i in range(len(data['features'])):\n",
    "    zcta_zipcodes.append(str(data['features'][i]['properties']['ZCTA5CE10']))"
   ]
  },
  {
   "cell_type": "code",
   "execution_count": null,
   "metadata": {
    "collapsed": false
   },
   "outputs": [],
   "source": [
    "# make list of unique zipcodes\n",
    "zipcodes_filtered = zip_summary.zipcodes.unique().tolist()"
   ]
  },
  {
   "cell_type": "code",
   "execution_count": null,
   "metadata": {
    "collapsed": false
   },
   "outputs": [],
   "source": [
    "df_feat = pd.DataFrame(data['features'])\n",
    "zipinjson = []\n",
    "                            \n",
    "# create a new df (temp) for selected zipcodes\n",
    "temp = pd.DataFrame()\n",
    "for i in range(len(data['features'])):\n",
    "    if str(data['features'][i]['properties']['ZCTA5CE10']) in zipcodes_filtered:\n",
    "        temp = pd.concat([temp,df_feat.iloc[[i]]],ignore_index=True)\n",
    "        zipinjson.append(str(data['features'][i]['properties']['ZCTA5CE10']))\n",
    "        \n",
    "# covert it to a right format\n",
    "dict_temp = temp.to_dict(orient='records')\n",
    "\n",
    "# replace the old one\n",
    "data['features'] = dict_temp\n",
    "\n",
    "# save as a new file\n",
    "import json\n",
    "with open('zip_cities.json', 'w') as f:\n",
    "    json.dump(data, f)\n",
    "\n",
    "# test using folium\n",
    "m = folium.Map(location=[37.769959, -122.448679], zoom_start=9)\n",
    "geo_path = 'zip_cities.json'\n",
    "m.geo_json(geo_path=geo_path)\n",
    "m.create_map('zip_cities.html')"
   ]
  },
  {
   "cell_type": "code",
   "execution_count": null,
   "metadata": {
    "collapsed": false,
    "scrolled": true
   },
   "outputs": [],
   "source": [
    "visits_total = zip_summary[zip_summary.zipcodes.isin(zipinjson)]\n",
    "visits_total.rename(columns={'zipcodes':'ZCTA5CE10'},inplace=True)\n",
    "visits_total['visits_total'] = [int(c) for c in visits_total['visits_total']]\n",
    "visits_total['travel_cost'] = [int(c) for c in visits_total['travel_cost']]"
   ]
  },
  {
   "cell_type": "markdown",
   "metadata": {},
   "source": [
    "### Visits total"
   ]
  },
  {
   "cell_type": "code",
   "execution_count": null,
   "metadata": {
    "collapsed": false
   },
   "outputs": [],
   "source": [
    "#Using custom Mapbox Tiles\n",
    "tileset = r'https://api.mapbox.com/v4/mapbox.light/{z}/{x}/{y}.png?access_token='\n",
    "attribution = (r'Map data © <a href=\"http://openstreetmap.org\">OpenStreetMap</a>'\n",
    "                ' contributors, Imagery © <a href=\"http://mapbox.com\">MapBox</a>')\n",
    "\n",
    "mappath = 'map_totalstops_shapes.html'\n",
    "\n",
    "m = folium.Map(location=[37.769959, -122.448679], zoom_start=9, tiles=tileset, attr=attribution)\n",
    "geo_path = 'zip_cities.json'\n",
    "m.geo_json(geo_path=geo_path, data=visits_total,\n",
    "               columns=['ZCTA5CE10','visits_total'],\n",
    "               key_on='feature.properties.ZCTA5CE10', \n",
    "               fill_color='OrRd', fill_opacity=1, line_opacity=0.2, \n",
    "               legend_name='Visits total')\n",
    "m.add_layers_to_map\n",
    "m.create_map(path=mappath)\n",
    "# IFrame(mappath,500,400)"
   ]
  },
  {
   "cell_type": "markdown",
   "metadata": {},
   "source": [
    "### Travel cost"
   ]
  },
  {
   "cell_type": "code",
   "execution_count": null,
   "metadata": {
    "collapsed": false
   },
   "outputs": [],
   "source": [
    "#Using custom Mapbox Tiles\n",
    "tileset = r'https://api.mapbox.com/v4/mapbox.light/{z}/{x}/{y}.png?access_token='\n",
    "attribution = (r'Map data © <a href=\"http://openstreetmap.org\">OpenStreetMap</a>'\n",
    "                ' contributors, Imagery © <a href=\"http://mapbox.com\">MapBox</a>')\n",
    "\n",
    "mappath = 'map_travelcost_shapes.html'\n",
    "\n",
    "m = folium.Map(location=[37.769959, -122.448679], zoom_start=9, tiles=tileset, attr=attribution)\n",
    "geo_path = 'zip_cities.json'\n",
    "m.geo_json(geo_path=geo_path, data=visits_total,\n",
    "               columns=['ZCTA5CE10','travel_cost'],\n",
    "               key_on='feature.properties.ZCTA5CE10', \n",
    "               fill_color='OrRd', fill_opacity=1, line_opacity=0.2, \n",
    "               legend_name='Travel cost')\n",
    "m.add_layers_to_map\n",
    "m.create_map(path=mappath)"
   ]
  },
  {
   "cell_type": "markdown",
   "metadata": {},
   "source": [
    "### Population"
   ]
  },
  {
   "cell_type": "code",
   "execution_count": null,
   "metadata": {
    "collapsed": false
   },
   "outputs": [],
   "source": [
    "#Using custom Mapbox Tiles\n",
    "\n",
    "tileset = r'https://api.mapbox.com/v4/mapbox.light/{z}/{x}/{y}.png?access_token='\n",
    "attribution = (r'Map data © <a href=\"http://openstreetmap.org\">OpenStreetMap</a>'\n",
    "                ' contributors, Imagery © <a href=\"http://mapbox.com\">MapBox</a>')\n",
    "\n",
    "m = folium.Map(location=[37.769959, -122.448679], zoom_start=9, tiles=tileset, attr=attribution)\n",
    "geo_path = 'zip_cities.json'\n",
    "m.geo_json(geo_path=geo_path, data=visits_total,\n",
    "               columns=['ZCTA5CE10','population'],\n",
    "               key_on='feature.properties.ZCTA5CE10', threshold_scale=[1, 5000, 10000, 20000, 50000, 70000],\n",
    "               fill_color='OrRd', fill_opacity=1, line_opacity=0.2, \n",
    "               legend_name='travel_cost')\n",
    "m.add_layers_to_map\n",
    "m.create_map('population.html')"
   ]
  },
  {
   "cell_type": "markdown",
   "metadata": {},
   "source": [
    "### Classifier"
   ]
  },
  {
   "cell_type": "code",
   "execution_count": null,
   "metadata": {
    "collapsed": false
   },
   "outputs": [],
   "source": [
    "#Using custom Mapbox Tiles\n",
    "tbl_classifier = visits_total.copy()\n",
    "tbl_classifier[tbl_classifier.classifier_label_edited.isnull()]\n",
    "tbl_classifier.classifier_label_edited[tbl_classifier.classifier_label_edited.isnull()] = 9.0"
   ]
  },
  {
   "cell_type": "code",
   "execution_count": null,
   "metadata": {
    "collapsed": false
   },
   "outputs": [],
   "source": [
    "tileset = r'https://api.mapbox.com/v4/mapbox.light/{z}/{x}/{y}.png?access_token='\n",
    "attribution = (r'Map data © <a href=\"http://openstreetmap.org\">OpenStreetMap</a>'\n",
    "                ' contributors, Imagery © <a href=\"http://mapbox.com\">MapBox</a>')\n",
    "\n",
    "m = folium.Map(location=[37.769959, -122.448679], zoom_start=9, tiles=tileset, attr=attribution)\n",
    "geo_path = 'zip_cities.json'\n",
    "m.geo_json(geo_path=geo_path, data=tbl_classifier,\n",
    "               columns=['ZCTA5CE10','classifier_label_edited'],\n",
    "               key_on='feature.properties.ZCTA5CE10', \n",
    "               fill_color='Dark2', fill_opacity=1, line_opacity=0.2, \n",
    "               legend_name='Regions')\n",
    "m.add_layers_to_map\n",
    "m.create_map('classifier_label_edited.html')\n",
    "\n",
    "# change this in the html file\n",
    "# var color = d3.scale.threshold()\n",
    "#     .domain([1, 2.0, 3.0, 4.0, 5.0, 6.0, 7.0, 8.0])\n",
    "#     .range(['#e41a1c', '#377eb8', '#4daf4a', '#984ea3', '#ff7f00', '#ffff33', '#a65628', '#f781bf', '#999999']);"
   ]
  }
 ],
 "metadata": {
  "kernelspec": {
   "display_name": "Python 3",
   "language": "python",
   "name": "python3"
  },
  "language_info": {
   "codemirror_mode": {
    "name": "ipython",
    "version": 3
   },
   "file_extension": ".py",
   "mimetype": "text/x-python",
   "name": "python",
   "nbconvert_exporter": "python",
   "pygments_lexer": "ipython3",
   "version": "3.4.3"
  }
 },
 "nbformat": 4,
 "nbformat_minor": 0
}
